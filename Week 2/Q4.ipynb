{
 "cells": [
  {
   "cell_type": "code",
   "execution_count": 1,
   "metadata": {},
   "outputs": [
    {
     "name": "stdout",
     "output_type": "stream",
     "text": [
      "Capital of WestBengal\n"
     ]
    },
    {
     "name": "stdin",
     "output_type": "stream",
     "text": [
      " Kolkata\n"
     ]
    },
    {
     "name": "stdout",
     "output_type": "stream",
     "text": [
      "Capital of Telangana\n"
     ]
    },
    {
     "name": "stdin",
     "output_type": "stream",
     "text": [
      " Hydrabad\n"
     ]
    },
    {
     "name": "stdout",
     "output_type": "stream",
     "text": [
      "Capital of Telangana\n"
     ]
    },
    {
     "name": "stdin",
     "output_type": "stream",
     "text": [
      " Hydrabad\n"
     ]
    },
    {
     "name": "stdout",
     "output_type": "stream",
     "text": [
      "Capital of Tamil Nadu\n"
     ]
    },
    {
     "name": "stdin",
     "output_type": "stream",
     "text": [
      " Chennai\n"
     ]
    },
    {
     "name": "stdout",
     "output_type": "stream",
     "text": [
      "Capital of Telangana\n"
     ]
    },
    {
     "name": "stdin",
     "output_type": "stream",
     "text": [
      " Hydrabad\n"
     ]
    },
    {
     "name": "stdout",
     "output_type": "stream",
     "text": [
      "Total marks out of 5 are  5\n"
     ]
    }
   ],
   "source": [
    "import random\n",
    "paper = {\n",
    "    \"Capital of India\" : \"Delhi\",\n",
    "    \"Capital of Tamil Nadu\" : \"Chennai\",\n",
    "    \"Capital of Rajasthan\" : \"Jaipur\",\n",
    "    \"Capital of Maharashtra\" : \"Mumbai\",\n",
    "    \"Capital of Gujrat\" : \"GandhiNagar\",\n",
    "    \"Capital of WestBengal\" : \"Kolkata\",\n",
    "    \"Capital of Telangana\" : \"Hydrabad\"\n",
    "}\n",
    "marks= 0;\n",
    "for i in range(5):\n",
    "    x = random.choice(list(paper.keys()))\n",
    "    print(x)\n",
    "    value = input()\n",
    "    if(paper.get(x) == value):\n",
    "        marks = marks + 1\n",
    "print(\"Total marks out of 5 are \", marks)"
   ]
  },
  {
   "cell_type": "code",
   "execution_count": null,
   "metadata": {},
   "outputs": [],
   "source": []
  }
 ],
 "metadata": {
  "kernelspec": {
   "display_name": "Python 3",
   "language": "python",
   "name": "python3"
  },
  "language_info": {
   "codemirror_mode": {
    "name": "ipython",
    "version": 3
   },
   "file_extension": ".py",
   "mimetype": "text/x-python",
   "name": "python",
   "nbconvert_exporter": "python",
   "pygments_lexer": "ipython3",
   "version": "3.8.5"
  }
 },
 "nbformat": 4,
 "nbformat_minor": 4
}
