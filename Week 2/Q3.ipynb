{
 "cells": [
  {
   "cell_type": "code",
   "execution_count": 2,
   "metadata": {},
   "outputs": [
    {
     "name": "stdout",
     "output_type": "stream",
     "text": [
      "Input:\n"
     ]
    },
    {
     "name": "stdin",
     "output_type": "stream",
     "text": [
      "User id: Ramesh\n",
      "Password: 12345\n"
     ]
    },
    {
     "name": "stdout",
     "output_type": "stream",
     "text": [
      "Dear  Ramesh ,you are welcome to our bank\n"
     ]
    }
   ],
   "source": [
    "data = {\n",
    "    \"Ramesh\": \"12345\",\n",
    "    \"Seetha\": \"abcde\",\n",
    "    \"Abhishek\": \"pqrst\",\n",
    "    \"Ramya\": \"98765\",\n",
    "    \"Priya\": \"xyzab\"\n",
    "}\n",
    "print(\"Input:\")\n",
    "userid = input(\"User id:\")\n",
    "password = input(\"Password:\")\n",
    "\n",
    "if userid in data.keys():\n",
    "    if password == data[userid]:\n",
    "        print(\"Dear \", userid , \",you are welcome to our bank\")\n",
    "    else:\n",
    "        print(\"Your details do not match with out record\")\n",
    "else:\n",
    "        print(\"Your details do not match with out record\")"
   ]
  },
  {
   "cell_type": "code",
   "execution_count": null,
   "metadata": {},
   "outputs": [],
   "source": []
  }
 ],
 "metadata": {
  "kernelspec": {
   "display_name": "Python 3",
   "language": "python",
   "name": "python3"
  },
  "language_info": {
   "codemirror_mode": {
    "name": "ipython",
    "version": 3
   },
   "file_extension": ".py",
   "mimetype": "text/x-python",
   "name": "python",
   "nbconvert_exporter": "python",
   "pygments_lexer": "ipython3",
   "version": "3.8.5"
  }
 },
 "nbformat": 4,
 "nbformat_minor": 4
}
