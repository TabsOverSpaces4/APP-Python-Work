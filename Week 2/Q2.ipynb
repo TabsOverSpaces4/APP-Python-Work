{
 "cells": [
  {
   "cell_type": "code",
   "execution_count": 2,
   "metadata": {},
   "outputs": [
    {
     "ename": "NameError",
     "evalue": "name '_name_' is not defined",
     "output_type": "error",
     "traceback": [
      "\u001b[0;31m---------------------------------------------------------------------------\u001b[0m",
      "\u001b[0;31mNameError\u001b[0m                                 Traceback (most recent call last)",
      "\u001b[0;32m<ipython-input-2-75335ebad9e2>\u001b[0m in \u001b[0;36m<module>\u001b[0;34m\u001b[0m\n\u001b[1;32m     12\u001b[0m     \u001b[0;32melse\u001b[0m\u001b[0;34m:\u001b[0m\u001b[0;34m\u001b[0m\u001b[0;34m\u001b[0m\u001b[0m\n\u001b[1;32m     13\u001b[0m         \u001b[0mprint\u001b[0m \u001b[0;34m(\u001b[0m\u001b[0mdict\u001b[0m\u001b[0;34m[\u001b[0m\u001b[0mmaxVote\u001b[0m\u001b[0;34m]\u001b[0m\u001b[0;34m[\u001b[0m\u001b[0;36m0\u001b[0m\u001b[0;34m]\u001b[0m\u001b[0;34m)\u001b[0m\u001b[0;34m\u001b[0m\u001b[0;34m\u001b[0m\u001b[0m\n\u001b[0;32m---> 14\u001b[0;31m \u001b[0;32mif\u001b[0m \u001b[0m_name_\u001b[0m \u001b[0;34m==\u001b[0m \u001b[0;34m\"_main_\"\u001b[0m\u001b[0;34m:\u001b[0m\u001b[0;34m\u001b[0m\u001b[0;34m\u001b[0m\u001b[0m\n\u001b[0m\u001b[1;32m     15\u001b[0m     input =['john','johnny','jackie','johnny', \n\u001b[1;32m     16\u001b[0m             \u001b[0;34m'john'\u001b[0m\u001b[0;34m,\u001b[0m\u001b[0;34m'jackie'\u001b[0m\u001b[0;34m,\u001b[0m\u001b[0;34m'jamie'\u001b[0m\u001b[0;34m,\u001b[0m\u001b[0;34m'jamie'\u001b[0m\u001b[0;34m,\u001b[0m\u001b[0;34m\u001b[0m\u001b[0;34m\u001b[0m\u001b[0m\n",
      "\u001b[0;31mNameError\u001b[0m: name '_name_' is not defined"
     ]
    }
   ],
   "source": [
    "from collections import Counter  \n",
    "def winner(input):   \n",
    "    votes = Counter(input)    \n",
    "    dict = {}  \n",
    "    for value in votes.values():   \n",
    "        dict[value] = []  \n",
    "    for (key,value) in votes.items():  \n",
    "        dict[value].append(key)   \n",
    "    maxVote = sorted(dict.keys(),reverse=True)[0]  \n",
    "    if len(dict[maxVote])>1:  \n",
    "        print (sorted(dict[maxVote])[0]) \n",
    "    else:  \n",
    "        print (dict[maxVote][0])  \n",
    "if name == \"main\":  \n",
    "    input =['john','johnny','jackie','johnny', \n",
    "            'john','jackie','jamie','jamie', \n",
    "            'john','johnny','jamie','johnny', \n",
    "            'john']  \n",
    "    winner(input)"
   ]
  },
  {
   "cell_type": "code",
   "execution_count": 3,
   "metadata": {},
   "outputs": [
    {
     "ename": "NameError",
     "evalue": "name 'name' is not defined",
     "output_type": "error",
     "traceback": [
      "\u001b[0;31m---------------------------------------------------------------------------\u001b[0m",
      "\u001b[0;31mNameError\u001b[0m                                 Traceback (most recent call last)",
      "\u001b[0;32m<ipython-input-3-256f5200d6ef>\u001b[0m in \u001b[0;36m<module>\u001b[0;34m\u001b[0m\n\u001b[1;32m     12\u001b[0m     \u001b[0;32melse\u001b[0m\u001b[0;34m:\u001b[0m\u001b[0;34m\u001b[0m\u001b[0;34m\u001b[0m\u001b[0m\n\u001b[1;32m     13\u001b[0m         \u001b[0mprint\u001b[0m \u001b[0;34m(\u001b[0m\u001b[0mdict\u001b[0m\u001b[0;34m[\u001b[0m\u001b[0mmaxVote\u001b[0m\u001b[0;34m]\u001b[0m\u001b[0;34m[\u001b[0m\u001b[0;36m0\u001b[0m\u001b[0;34m]\u001b[0m\u001b[0;34m)\u001b[0m\u001b[0;34m\u001b[0m\u001b[0;34m\u001b[0m\u001b[0m\n\u001b[0;32m---> 14\u001b[0;31m \u001b[0;32mif\u001b[0m \u001b[0mname\u001b[0m \u001b[0;34m==\u001b[0m \u001b[0;34m\"main\"\u001b[0m\u001b[0;34m:\u001b[0m\u001b[0;34m\u001b[0m\u001b[0;34m\u001b[0m\u001b[0m\n\u001b[0m\u001b[1;32m     15\u001b[0m     input =['john','johnny','jackie','johnny', \n\u001b[1;32m     16\u001b[0m             \u001b[0;34m'john'\u001b[0m\u001b[0;34m,\u001b[0m\u001b[0;34m'jackie'\u001b[0m\u001b[0;34m,\u001b[0m\u001b[0;34m'jamie'\u001b[0m\u001b[0;34m,\u001b[0m\u001b[0;34m'jamie'\u001b[0m\u001b[0;34m,\u001b[0m\u001b[0;34m\u001b[0m\u001b[0;34m\u001b[0m\u001b[0m\n",
      "\u001b[0;31mNameError\u001b[0m: name 'name' is not defined"
     ]
    }
   ],
   "source": [
    "from collections import Counter  \n",
    "def winner(input):   \n",
    "    votes = Counter(input)    \n",
    "    dict = {}  \n",
    "    for value in votes.values():   \n",
    "        dict[value] = []  \n",
    "    for (key,value) in votes.items():  \n",
    "        dict[value].append(key)   \n",
    "    maxVote = sorted(dict.keys(),reverse=True)[0]  \n",
    "    if len(dict[maxVote])>1:  \n",
    "        pCrint (sorted(dict[maxVote])[0]) \n",
    "    else:  \n",
    "        print (dict[maxVote][0])  \n",
    "if name == \"main\":  \n",
    "    input =['john','johnny','jackie','johnny', \n",
    "            'john','jackie','jamie','jamie', \n",
    "            'john','johnny','jamie','johnny', \n",
    "            'john']  \n",
    "    winner(input)"
   ]
  },
  {
   "cell_type": "code",
   "execution_count": 4,
   "metadata": {},
   "outputs": [
    {
     "ename": "NameError",
     "evalue": "name '_name_' is not defined",
     "output_type": "error",
     "traceback": [
      "\u001b[0;31m---------------------------------------------------------------------------\u001b[0m",
      "\u001b[0;31mNameError\u001b[0m                                 Traceback (most recent call last)",
      "\u001b[0;32m<ipython-input-4-82683b26ecbb>\u001b[0m in \u001b[0;36m<module>\u001b[0;34m\u001b[0m\n\u001b[1;32m     12\u001b[0m     \u001b[0;32melse\u001b[0m\u001b[0;34m:\u001b[0m\u001b[0;34m\u001b[0m\u001b[0;34m\u001b[0m\u001b[0m\n\u001b[1;32m     13\u001b[0m         \u001b[0mprint\u001b[0m \u001b[0;34m(\u001b[0m\u001b[0mdict\u001b[0m\u001b[0;34m[\u001b[0m\u001b[0mmaxVote\u001b[0m\u001b[0;34m]\u001b[0m\u001b[0;34m[\u001b[0m\u001b[0;36m0\u001b[0m\u001b[0;34m]\u001b[0m\u001b[0;34m)\u001b[0m\u001b[0;34m\u001b[0m\u001b[0;34m\u001b[0m\u001b[0m\n\u001b[0;32m---> 14\u001b[0;31m \u001b[0;32mif\u001b[0m \u001b[0m_name_\u001b[0m \u001b[0;34m==\u001b[0m \u001b[0;34m\"_main_\"\u001b[0m\u001b[0;34m:\u001b[0m\u001b[0;34m\u001b[0m\u001b[0;34m\u001b[0m\u001b[0m\n\u001b[0m\u001b[1;32m     15\u001b[0m     input =['john','johnny','jackie','johnny', \n\u001b[1;32m     16\u001b[0m             \u001b[0;34m'john'\u001b[0m\u001b[0;34m,\u001b[0m\u001b[0;34m'jackie'\u001b[0m\u001b[0;34m,\u001b[0m\u001b[0;34m'jamie'\u001b[0m\u001b[0;34m,\u001b[0m\u001b[0;34m'jamie'\u001b[0m\u001b[0;34m,\u001b[0m\u001b[0;34m\u001b[0m\u001b[0;34m\u001b[0m\u001b[0m\n",
      "\u001b[0;31mNameError\u001b[0m: name '_name_' is not defined"
     ]
    }
   ],
   "source": [
    "from collections import Counter  \n",
    "def winner(input):    \n",
    "    votes = Counter(input)\n",
    "    dict = {}  \n",
    "    for value in votes.values():    \n",
    "        dict[value] = []  \n",
    "    for (key,value) in votes.items():  \n",
    "        dict[value].append(key)  \n",
    "    maxVote = sorted(dict.keys(),reverse=True)[0]  \n",
    "    if len(dict[maxVote])>1:  \n",
    "        print (sorted(dict[maxVote])[0]) \n",
    "    else:  \n",
    "        print (dict[maxVote][0])  \n",
    "if _name_ == \"_main_\":  \n",
    "    input =['john','johnny','jackie','johnny', \n",
    "            'john','jackie','jamie','jamie', \n",
    "            'john','johnny','jamie','johnny', \n",
    "            'john']  \n",
    "    winner(input)"
   ]
  },
  {
   "cell_type": "code",
   "execution_count": null,
   "metadata": {},
   "outputs": [],
   "source": []
  }
 ],
 "metadata": {
  "kernelspec": {
   "display_name": "Python 3",
   "language": "python",
   "name": "python3"
  },
  "language_info": {
   "codemirror_mode": {
    "name": "ipython",
    "version": 3
   },
   "file_extension": ".py",
   "mimetype": "text/x-python",
   "name": "python",
   "nbconvert_exporter": "python",
   "pygments_lexer": "ipython3",
   "version": "3.8.5"
  }
 },
 "nbformat": 4,
 "nbformat_minor": 4
}
