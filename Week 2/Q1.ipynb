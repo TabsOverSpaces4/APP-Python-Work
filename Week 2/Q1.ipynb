{
 "cells": [
  {
   "cell_type": "code",
   "execution_count": 2,
   "metadata": {},
   "outputs": [
    {
     "name": "stdout",
     "output_type": "stream",
     "text": [
      "Input:\n"
     ]
    },
    {
     "name": "stdin",
     "output_type": "stream",
     "text": [
      "Name: harsh\n",
      "Date of Birth: 24-01-2001\n"
     ]
    },
    {
     "name": "stdout",
     "output_type": "stream",
     "text": [
      "hars2401\n"
     ]
    }
   ],
   "source": [
    "print(\"Input:\")\n",
    "name = input(\"Name:\")\n",
    "dob = input(\"Date of Birth:\")\n",
    "\n",
    "nm=name[0:4]\n",
    "dob = dob.split(\"-\")\n",
    "\n",
    "x = lambda nm , dob : nm+dob[0]+dob[1]\n",
    "print(x(nm,dob))\n",
    "\n",
    "\n"
   ]
  },
  {
   "cell_type": "code",
   "execution_count": null,
   "metadata": {},
   "outputs": [],
   "source": []
  }
 ],
 "metadata": {
  "kernelspec": {
   "display_name": "Python 3",
   "language": "python",
   "name": "python3"
  },
  "language_info": {
   "codemirror_mode": {
    "name": "ipython",
    "version": 3
   },
   "file_extension": ".py",
   "mimetype": "text/x-python",
   "name": "python",
   "nbconvert_exporter": "python",
   "pygments_lexer": "ipython3",
   "version": "3.8.5"
  }
 },
 "nbformat": 4,
 "nbformat_minor": 4
}
