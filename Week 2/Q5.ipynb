{
 "cells": [
  {
   "cell_type": "code",
   "execution_count": null,
   "metadata": {},
   "outputs": [],
   "source": [
    "import random\n",
    "tup = ();\n",
    "for i in range(5):\n",
    "    x = input();\n",
    "    tup = tup + (x,)\n",
    "rand = random.choice(tup)\n",
    "print(\"Enter the following captcha to check if you are a robot:\",rand);\n",
    "value = input()\n",
    "if(rand == value):\n",
    "    print(\"You are not a robot\")\n",
    "else:\n",
    "    print(\"You are a robot\")"
   ]
  },
  {
   "cell_type": "code",
   "execution_count": null,
   "metadata": {},
   "outputs": [],
   "source": []
  },
  {
   "cell_type": "code",
   "execution_count": null,
   "metadata": {},
   "outputs": [],
   "source": []
  },
  {
   "cell_type": "code",
   "execution_count": 2,
   "metadata": {},
   "outputs": [
    {
     "name": "stdin",
     "output_type": "stream",
     "text": [
      " hftgf\n",
      " fghfg\n",
      " dfgdfg\n",
      " dfgdf\n",
      " fghf\n"
     ]
    },
    {
     "name": "stdout",
     "output_type": "stream",
     "text": [
      "Enter the following captcha to check if you are a robot: fghf\n"
     ]
    },
    {
     "name": "stdin",
     "output_type": "stream",
     "text": [
      " fghf\n"
     ]
    },
    {
     "name": "stdout",
     "output_type": "stream",
     "text": [
      "You are not a robot\n"
     ]
    }
   ],
   "source": [
    "import random\n",
    "tup = ();\n",
    "for i in range(5):\n",
    "    x = input();\n",
    "    tup = tup + (x,)\n",
    "rand = random.choice(tup)\n",
    "print(\"Enter the following captcha to check if you are a robot:\",rand);\n",
    "value = input()\n",
    "if(rand == value):\n",
    "    print(\"You are not a robot\")\n",
    "else:\n",
    "    print(\"You are a robot\")"
   ]
  },
  {
   "cell_type": "code",
   "execution_count": null,
   "metadata": {},
   "outputs": [],
   "source": []
  }
 ],
 "metadata": {
  "kernelspec": {
   "display_name": "Python 3",
   "language": "python",
   "name": "python3"
  },
  "language_info": {
   "codemirror_mode": {
    "name": "ipython",
    "version": 3
   },
   "file_extension": ".py",
   "mimetype": "text/x-python",
   "name": "python",
   "nbconvert_exporter": "python",
   "pygments_lexer": "ipython3",
   "version": "3.8.5"
  }
 },
 "nbformat": 4,
 "nbformat_minor": 4
}
