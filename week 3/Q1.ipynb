{
 "cells": [
  {
   "cell_type": "code",
   "execution_count": 1,
   "metadata": {},
   "outputs": [
    {
     "name": "stdout",
     "output_type": "stream",
     "text": [
      "Blu is a bird\n",
      "Woo is a bird\n",
      "Blu is 10 years old\n",
      "Woo is 15 years old\n"
     ]
    }
   ],
   "source": [
    "class Bird:\n",
    "    def Blu(slf):\n",
    "        print(\"Blu is a bird\")\n",
    "    def Woo(slf):\n",
    "        print(\"Woo is a bird\")\n",
    "    def Blu_age(slf):\n",
    "        print(\"Blu is 10 years old\")\n",
    "    def Woo_age(slf):\n",
    "        print(\"Woo is 15 years old\")\n",
    "    \n",
    "obj1_0021=Bird() #First Object of the class\n",
    "obj2_0021=Bird() #Second Object of the class\n",
    "\n",
    "obj1_0021.Blu()  #Calling from the first object\n",
    "obj1_0021.Woo()  #Calling from the first object\n",
    "obj2_0021.Blu_age()  #Calling from the second object\n",
    "obj2_0021.Woo_age()  #Calling from the second object"
   ]
  },
  {
   "cell_type": "code",
   "execution_count": null,
   "metadata": {},
   "outputs": [],
   "source": []
  }
 ],
 "metadata": {
  "kernelspec": {
   "display_name": "Python 3",
   "language": "python",
   "name": "python3"
  },
  "language_info": {
   "codemirror_mode": {
    "name": "ipython",
    "version": 3
   },
   "file_extension": ".py",
   "mimetype": "text/x-python",
   "name": "python",
   "nbconvert_exporter": "python",
   "pygments_lexer": "ipython3",
   "version": "3.8.5"
  }
 },
 "nbformat": 4,
 "nbformat_minor": 4
}
