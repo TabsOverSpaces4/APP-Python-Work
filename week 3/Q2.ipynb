{
 "cells": [
  {
   "cell_type": "code",
   "execution_count": 1,
   "metadata": {},
   "outputs": [
    {
     "name": "stdout",
     "output_type": "stream",
     "text": [
      "I AM CLASS B\n",
      "I AM CLASS B\n",
      "I AM CLASS B1\n",
      "I AM CLASS B2\n"
     ]
    }
   ],
   "source": [
    "class B():\n",
    "    def show(slf):\n",
    "        print(\"I AM CLASS B\")\n",
    "\n",
    "class B1(B):\n",
    "    def show1(slf):\n",
    "        print(\"I AM CLASS B1\")\n",
    "        \n",
    "class B2(B1):\n",
    "    def show2(slf):\n",
    "        print(\"I AM CLASS B2\")\n",
    "        \n",
    "class D(B2):\n",
    "    def showD(slf):\n",
    "        print(\"I AM CLASS D\")\n",
    "\n",
    "obj0021=D()\n",
    "obj0021.show()\n",
    "obj0021.show()\n",
    "obj0021.show1()\n",
    "obj0021.show2()"
   ]
  },
  {
   "cell_type": "code",
   "execution_count": null,
   "metadata": {},
   "outputs": [],
   "source": []
  }
 ],
 "metadata": {
  "kernelspec": {
   "display_name": "Python 3",
   "language": "python",
   "name": "python3"
  },
  "language_info": {
   "codemirror_mode": {
    "name": "ipython",
    "version": 3
   },
   "file_extension": ".py",
   "mimetype": "text/x-python",
   "name": "python",
   "nbconvert_exporter": "python",
   "pygments_lexer": "ipython3",
   "version": "3.8.5"
  }
 },
 "nbformat": 4,
 "nbformat_minor": 4
}
