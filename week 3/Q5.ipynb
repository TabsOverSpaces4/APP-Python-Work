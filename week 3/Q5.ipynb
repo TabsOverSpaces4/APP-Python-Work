{
 "cells": [
  {
   "cell_type": "code",
   "execution_count": 1,
   "metadata": {},
   "outputs": [
    {
     "name": "stdout",
     "output_type": "stream",
     "text": [
      "I am Parent\n",
      "I am Child\n"
     ]
    }
   ],
   "source": [
    "class Parent():\n",
    "    def show(slf):\n",
    "        print(\"I am Parent\")\n",
    "\n",
    "class Child(Parent):\n",
    "    def show(slf):\n",
    "        super().show()  \n",
    "        print(\"I am Child\")\n",
    "        \n",
    "obj1_0021=Child()\n",
    "obj1_0021.show()"
   ]
  },
  {
   "cell_type": "code",
   "execution_count": null,
   "metadata": {},
   "outputs": [],
   "source": []
  }
 ],
 "metadata": {
  "kernelspec": {
   "display_name": "Python 3",
   "language": "python",
   "name": "python3"
  },
  "language_info": {
   "codemirror_mode": {
    "name": "ipython",
    "version": 3
   },
   "file_extension": ".py",
   "mimetype": "text/x-python",
   "name": "python",
   "nbconvert_exporter": "python",
   "pygments_lexer": "ipython3",
   "version": "3.8.5"
  }
 },
 "nbformat": 4,
 "nbformat_minor": 4
}
