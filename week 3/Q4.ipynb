{
 "cells": [
  {
   "cell_type": "code",
   "execution_count": 1,
   "metadata": {},
   "outputs": [
    {
     "name": "stdout",
     "output_type": "stream",
     "text": [
      "I am a Parrot, I can fly\n",
      "I am a Penguin, I can't fly\n"
     ]
    }
   ],
   "source": [
    "class flying_test:\n",
    "    def fly(slf):\n",
    "        pass\n",
    "class parrot(flying_test):\n",
    "    def fly(slf):\n",
    "        print(\"I am a Parrot, I can fly\")\n",
    "         \n",
    "class penguin(flying_test):\n",
    "    def fly(slf):\n",
    "        print(\"I am a Penguin, I can't fly\")\n",
    "        \n",
    "        \n",
    "        \n",
    "obj1_0021=parrot()\n",
    "obj2_0021=penguin()\n",
    "obj1_0021.fly()\n",
    "obj2_0021.fly()"
   ]
  },
  {
   "cell_type": "code",
   "execution_count": null,
   "metadata": {},
   "outputs": [],
   "source": []
  }
 ],
 "metadata": {
  "kernelspec": {
   "display_name": "Python 3",
   "language": "python",
   "name": "python3"
  },
  "language_info": {
   "codemirror_mode": {
    "name": "ipython",
    "version": 3
   },
   "file_extension": ".py",
   "mimetype": "text/x-python",
   "name": "python",
   "nbconvert_exporter": "python",
   "pygments_lexer": "ipython3",
   "version": "3.8.5"
  }
 },
 "nbformat": 4,
 "nbformat_minor": 4
}
