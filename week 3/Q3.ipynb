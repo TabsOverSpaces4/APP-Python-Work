{
 "cells": [
  {
   "cell_type": "code",
   "execution_count": 1,
   "metadata": {},
   "outputs": [
    {
     "name": "stdout",
     "output_type": "stream",
     "text": [
      "Original value of num1 and num2 are 900 and 900 \n",
      "Values of num1 and num2 after changing are 1000 and 900 \n"
     ]
    }
   ],
   "source": [
    "class sample:\n",
    "    num1_0021=900   \n",
    "    __num2_0021=900\n",
    "    \n",
    "    def show(slf):\n",
    "        print(f\"Original value of num1 and num2 are {slf.num1_0021} and {slf.__num2_0021} \")\n",
    "    \n",
    "    def show_after_changing(slf):\n",
    "        print(f\"Values of num1 and num2 after changing are {slf.num1_0021} and {slf.__num2_0021} \")\n",
    "\n",
    "obj=sample()\n",
    "obj.show()\n",
    "sample.num1_0021=1000 \n",
    "sample.__num2_0021=1000 \n",
    "\n",
    "obj.show_after_changing()"
   ]
  },
  {
   "cell_type": "code",
   "execution_count": null,
   "metadata": {},
   "outputs": [],
   "source": []
  }
 ],
 "metadata": {
  "kernelspec": {
   "display_name": "Python 3",
   "language": "python",
   "name": "python3"
  },
  "language_info": {
   "codemirror_mode": {
    "name": "ipython",
    "version": 3
   },
   "file_extension": ".py",
   "mimetype": "text/x-python",
   "name": "python",
   "nbconvert_exporter": "python",
   "pygments_lexer": "ipython3",
   "version": "3.8.5"
  }
 },
 "nbformat": 4,
 "nbformat_minor": 4
}
