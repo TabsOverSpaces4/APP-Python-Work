{
 "cells": [
  {
   "cell_type": "code",
   "execution_count": 2,
   "metadata": {},
   "outputs": [
    {
     "name": "stdin",
     "output_type": "stream",
     "text": [
      "Enter the maximum number:  21\n"
     ]
    },
    {
     "name": "stdout",
     "output_type": "stream",
     "text": [
      "The number generated is: 15\n"
     ]
    }
   ],
   "source": [
    "import random\n",
    "def outer(n):\n",
    "    har = random.sample(range(0,n+1), n)\n",
    "    def inner():\n",
    "        ind = random.randrange(0, n)\n",
    "        return har[ind]\n",
    "    return inner\n",
    "\n",
    "n = int(input(\"Enter the maximum number: \"))\n",
    "pick_number = outer(n)\n",
    "print(\"The number generated is: {}\".format(pick_number()))"
   ]
  },
  {
   "cell_type": "code",
   "execution_count": null,
   "metadata": {},
   "outputs": [],
   "source": []
  }
 ],
 "metadata": {
  "kernelspec": {
   "display_name": "Python 3",
   "language": "python",
   "name": "python3"
  },
  "language_info": {
   "codemirror_mode": {
    "name": "ipython",
    "version": 3
   },
   "file_extension": ".py",
   "mimetype": "text/x-python",
   "name": "python",
   "nbconvert_exporter": "python",
   "pygments_lexer": "ipython3",
   "version": "3.8.5"
  }
 },
 "nbformat": 4,
 "nbformat_minor": 4
}
