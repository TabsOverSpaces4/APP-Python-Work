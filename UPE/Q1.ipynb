{
 "cells": [
  {
   "cell_type": "code",
   "execution_count": 4,
   "metadata": {},
   "outputs": [
    {
     "output_type": "error",
     "ename": "Error",
     "evalue": "Jupyter cannot be started. Error attempting to locate jupyter: Data Science libraries notebook and jupyter are not installed in interpreter Python 3.8.5 64-bit.",
     "traceback": [
      "Error: Jupyter cannot be started. Error attempting to locate jupyter: Data Science libraries notebook and jupyter are not installed in interpreter Python 3.8.5 64-bit.",
      "at S.startServer (/home/harsh/.vscode/extensions/ms-toolsai.jupyter-2021.6.832593372/out/client/extension.js:54:382764)",
      "at async S.createServer (/home/harsh/.vscode/extensions/ms-toolsai.jupyter-2021.6.832593372/out/client/extension.js:54:382059)",
      "at async connect (/home/harsh/.vscode/extensions/ms-toolsai.jupyter-2021.6.832593372/out/client/extension.js:90:179008)",
      "at async D.ensureConnectionAndNotebookImpl (/home/harsh/.vscode/extensions/ms-toolsai.jupyter-2021.6.832593372/out/client/extension.js:37:627194)",
      "at async D.ensureConnectionAndNotebook (/home/harsh/.vscode/extensions/ms-toolsai.jupyter-2021.6.832593372/out/client/extension.js:37:625426)",
      "at async D.clearResult (/home/harsh/.vscode/extensions/ms-toolsai.jupyter-2021.6.832593372/out/client/extension.js:37:621088)",
      "at async D.reexecuteCell (/home/harsh/.vscode/extensions/ms-toolsai.jupyter-2021.6.832593372/out/client/extension.js:37:607353)",
      "at async D.reexecuteCells (/home/harsh/.vscode/extensions/ms-toolsai.jupyter-2021.6.832593372/out/client/extension.js:37:603557)"
     ]
    }
   ],
   "source": [
    "def swap(x,y):\n",
    "    x, y = y, x\n",
    "    print(\"Variables after swap:\", x, y)\n",
    "x=int(input(\"Enter x: \"))\n",
    "y=int(input(\"Enter y: \"))\n",
    "print(\"Variables before swap:\", x, y)\n",
    "swap(x,y)"
   ]
  },
  {
   "cell_type": "code",
   "execution_count": null,
   "metadata": {},
   "outputs": [],
   "source": []
  }
 ],
 "metadata": {
  "kernelspec": {
   "display_name": "Python 3",
   "language": "python",
   "name": "python3"
  },
  "language_info": {
   "codemirror_mode": {
    "name": "ipython",
    "version": 3
   },
   "file_extension": ".py",
   "mimetype": "text/x-python",
   "name": "python",
   "nbconvert_exporter": "python",
   "pygments_lexer": "ipython3",
   "version": "3.8.5"
  }
 },
 "nbformat": 4,
 "nbformat_minor": 4
}