{
 "cells": [
  {
   "cell_type": "code",
   "execution_count": 6,
   "metadata": {},
   "outputs": [
    {
     "ename": "TypeError",
     "evalue": "can only concatenate str (not \"int\") to str",
     "output_type": "error",
     "traceback": [
      "\u001b[0;31m---------------------------------------------------------------------------\u001b[0m",
      "\u001b[0;31mTypeError\u001b[0m                                 Traceback (most recent call last)",
      "\u001b[0;32m<ipython-input-6-266c07b78bf3>\u001b[0m in \u001b[0;36m<module>\u001b[0;34m\u001b[0m\n\u001b[1;32m      1\u001b[0m \u001b[0mi\u001b[0m \u001b[0;34m=\u001b[0m \u001b[0;36m1\u001b[0m\u001b[0;34m\u001b[0m\u001b[0;34m\u001b[0m\u001b[0m\n\u001b[1;32m      2\u001b[0m \u001b[0;34m\u001b[0m\u001b[0m\n\u001b[0;32m----> 3\u001b[0;31m \u001b[0mprint\u001b[0m\u001b[0;34m(\u001b[0m\u001b[0;34m\"enter details of customer number \"\u001b[0m \u001b[0;34m+\u001b[0m \u001b[0mi\u001b[0m\u001b[0;34m)\u001b[0m\u001b[0;34m\u001b[0m\u001b[0;34m\u001b[0m\u001b[0m\n\u001b[0m\u001b[1;32m      4\u001b[0m \u001b[0mcid\u001b[0m \u001b[0;34m=\u001b[0m \u001b[0minput\u001b[0m\u001b[0;34m(\u001b[0m\u001b[0;34m\"Enter your house number: \"\u001b[0m\u001b[0;34m)\u001b[0m\u001b[0;34m\u001b[0m\u001b[0;34m\u001b[0m\u001b[0m\n",
      "\u001b[0;31mTypeError\u001b[0m: can only concatenate str (not \"int\") to str"
     ]
    }
   ],
   "source": [
    "i = 1\n",
    "\n",
    "print(\"enter details of customer number \" + i)\n",
    "cid = input(\"Enter your house number: \")"
   ]
  },
  {
   "cell_type": "code",
   "execution_count": null,
   "metadata": {},
   "outputs": [
    {
     "name": "stdout",
     "output_type": "stream",
     "text": [
      "enter details of customer number  1\n"
     ]
    }
   ],
   "source": [
    "i = 1\n",
    "\n",
    "print(\"enter details of customer number \", i)\n",
    "cid = input(\"Enter your house number: \")"
   ]
  },
  {
   "cell_type": "code",
   "execution_count": null,
   "metadata": {},
   "outputs": [],
   "source": [
    "i = 1\n",
    "\n",
    "while i>=5:\n",
    "    print(\"enter details of customer number \", i)\n",
    "    cid = input(\"Customer ID: \")\n",
    "    nme = input(\"Customer Name: \")\n",
    "    mnt = input(\"Month: \")\n",
    "    units = input(\"Units consumed: \")\n",
    "    i=i+1\n",
    "    "
   ]
  },
  {
   "cell_type": "code",
   "execution_count": null,
   "metadata": {},
   "outputs": [],
   "source": [
    "i = 1\n",
    "\n",
    "while i>=5:\n",
    "    print(\"enter details of customer number \", i)\n",
    "    cid = input(\"Customer ID: \")\n",
    "    nme = input(\"Customer Name: \")\n",
    "    mnt = input(\"Month: \")\n",
    "    units = input(\"Units consumed: \")\n",
    "    i=i+1\n",
    "    "
   ]
  },
  {
   "cell_type": "code",
   "execution_count": null,
   "metadata": {},
   "outputs": [],
   "source": [
    "i = 1\n",
    "\n",
    "while i<=5:\n",
    "    print(\"enter details of customer number \", i)\n",
    "    cid = input(\"Customer ID: \")\n",
    "    nme = input(\"Customer Name: \")\n",
    "    mnt = input(\"Month: \")\n",
    "    units = input(\"Units consumed: \")\n",
    "    i=i+1\n",
    "    "
   ]
  },
  {
   "cell_type": "code",
   "execution_count": null,
   "metadata": {},
   "outputs": [],
   "source": [
    "i = 1\n",
    "\n",
    "while i<=5:\n",
    "    print(\"enter details of customer number \", i)\n",
    "    cid = int(input(\"Customer ID: \"))\n",
    "    nme = input(\"Customer Name: \")\n",
    "    mnt = int(input(\"Month: \"))\n",
    "    units = int(input(\"Units consumed: \"))\n",
    "    i=i+1\n",
    "    "
   ]
  },
  {
   "cell_type": "code",
   "execution_count": null,
   "metadata": {},
   "outputs": [],
   "source": [
    "score = int(input(\"Enter a score between 0 and 100: \"))\n",
    "if score >=70:\n",
    "    print(\"That test score is a grade A\")\n",
    "elif score>=60:\n",
    "    print(\"That test score is a grade B\")\n",
    "elif score>=50:\n",
    "    print(\"That test score is a grade C\")\n",
    "elif score>=40:\n",
    "    print(\"That test score is a grade D\")\n",
    "else:\n",
    "    print(\"That test score is a grade U\")\n",
    "\n"
   ]
  },
  {
   "cell_type": "code",
   "execution_count": null,
   "metadata": {},
   "outputs": [],
   "source": [
    "print(\"Bill calculator\")\n",
    "\n",
    "i = 1\n",
    "\n",
    "while i<=5:\n",
    "    print(\"enter details of customer number \", i)\n",
    "    cid = int(input(\"Customer ID: \"))\n",
    "    nme = input(\"Customer Name: \")\n",
    "    mnt = int(input(\"Month: \"))\n",
    "    units = int(input(\"Units consumed: \"))\n",
    "    i=i+1\n",
    "    "
   ]
  },
  {
   "cell_type": "code",
   "execution_count": null,
   "metadata": {},
   "outputs": [],
   "source": [
    "print(\"Bill calculator\")\n",
    "\n",
    "i = 1\n",
    "\n",
    "def details():\n",
    "while i<=5:\n",
    "    \n",
    "    print(\"enter details of customer number \", i)\n",
    "    cid = int(input(\"Customer ID: \"))\n",
    "    nme = input(\"Customer Name: \")\n",
    "    mnt = int(input(\"Month: \"))\n",
    "    units = int(input(\"Units consumed: \"))\n",
    "    i=i+1\n",
    "\n",
    "details()\n",
    "\n",
    "\n",
    "    "
   ]
  },
  {
   "cell_type": "code",
   "execution_count": 1,
   "metadata": {},
   "outputs": [
    {
     "ename": "IndentationError",
     "evalue": "expected an indented block (<ipython-input-1-5d6b717e0b8a>, line 2)",
     "output_type": "error",
     "traceback": [
      "\u001b[0;36m  File \u001b[0;32m\"<ipython-input-1-5d6b717e0b8a>\"\u001b[0;36m, line \u001b[0;32m2\u001b[0m\n\u001b[0;31m    Cust_Id = input(\"Enter your Customer Id: \")\u001b[0m\n\u001b[0m    ^\u001b[0m\n\u001b[0;31mIndentationError\u001b[0m\u001b[0;31m:\u001b[0m expected an indented block\n"
     ]
    }
   ],
   "source": [
    "for i in range(0,5):\n",
    "Cust_Id = input(\"Enter your Customer Id: \")\n",
    "Cust_Name = input(\"Enter your Customer Name:\n",
    "Month = input(\"Enter the month : \")\n",
    "Units = int(input(\"Enter units consumed: \"))\n",
    "if Units<84:\n",
    "print(\"Minimum bill should be 100\\n\\n\")\n",
    "elif Units>=84 and Units<200:\n",
    "price = Units*1.20\n",
    "print(\"Bill for {0} with customer id {1}\n",
    "elif Units>=200 and Units<400:\n",
    "price = Units*1.50\n",
    "print(\"Bill for {0} with customer id {1}\n",
    "elif Units>=400 and Units<600:\n",
    "price = Units*1.80\n",
    "price = price * 1.15\n",
    "print(\"Bill for {0} with customer id {1}\n",
    "elif Units>=600:\n",
    "price = Units*2\n",
    "price = price*1.15\n",
    "print(\"Bill for {0} with customer id {1}\n",
    "\")\n",
    "is {2}\\n\\n\".format(Cust_Name, Cust_Id, price))\n",
    "is {2}\\n\\n\".format(Cust_Name, Cust_Id, price))\n",
    "is {2}\\n\\n\".format(Cust_Name, Cust_Id, price))\n",
    "is {2}\\n\\n\".format(Cust_Name, Cust_Id, price))"
   ]
  },
  {
   "cell_type": "code",
   "execution_count": 2,
   "metadata": {},
   "outputs": [
    {
     "ename": "SyntaxError",
     "evalue": "EOL while scanning string literal (<ipython-input-2-e898a46ccab7>, line 3)",
     "output_type": "error",
     "traceback": [
      "\u001b[0;36m  File \u001b[0;32m\"<ipython-input-2-e898a46ccab7>\"\u001b[0;36m, line \u001b[0;32m3\u001b[0m\n\u001b[0;31m    Cust_Name = input(\"Enter your Customer Name:\u001b[0m\n\u001b[0m                                                ^\u001b[0m\n\u001b[0;31mSyntaxError\u001b[0m\u001b[0;31m:\u001b[0m EOL while scanning string literal\n"
     ]
    }
   ],
   "source": [
    "for i in range(0,5):\n",
    "    Cust_Id = input(\"Enter your Customer Id: \")\n",
    "    Cust_Name = input(\"Enter your Customer Name:\")\n",
    "    Month = input(\"Enter the month : \")\n",
    "    Units = int(input(\"Enter units consumed: \"))\n",
    "    if Units<84:\n",
    "    print(\"Minimum bill should be 100\\n\\n\")\n",
    "    elif Units>=84 and Units<200:\n",
    "    price = Units*1.20\n",
    "    print(\"Bill for {0} with customer id {1} is {2}\\n\\n\".format(Cust_Name, Cust_Id, price))\n",
    "    elif Units>=200 and Units<400:\n",
    "    price = Units*1.50\n",
    "    print(\"Bill for {0} with customer id {1} is {2}\\n\\n\".format(Cust_Name, Cust_Id, price))\n",
    "    elif Units>=400 and Units<600:\n",
    "    price = Units*1.80\n",
    "    price = price * 1.15\n",
    "    print(\"Bill for {0} with customer id {1} is {2}\\n\\n\".format(Cust_Name, Cust_Id, price))\n",
    "    elif Units>=600:\n",
    "    price = Units*2\n",
    "    price = price*1.15\n",
    "    print(\"Bill for {0} with customer id {1} is {2}\\n\\n\".format(Cust_Name, Cust_Id, price))\n",
    "    \")\n"
   ]
  },
  {
   "cell_type": "code",
   "execution_count": 4,
   "metadata": {},
   "outputs": [
    {
     "name": "stdin",
     "output_type": "stream",
     "text": [
      "Enter your Customer Id:  545\n",
      "Enter your Customer Name: harsh\n",
      "Enter the month :  feb\n",
      "Enter units consumed:  100\n"
     ]
    },
    {
     "name": "stdout",
     "output_type": "stream",
     "text": [
      "Bill for harsh with customer id 545 is 120.0\n",
      "\n",
      "\n"
     ]
    },
    {
     "name": "stdin",
     "output_type": "stream",
     "text": [
      "Enter your Customer Id:  343\n",
      "Enter your Customer Name: ayush\n",
      "Enter the month :  jan\n",
      "Enter units consumed:  120\n"
     ]
    },
    {
     "name": "stdout",
     "output_type": "stream",
     "text": [
      "Bill for ayush with customer id 343 is 144.0\n",
      "\n",
      "\n"
     ]
    },
    {
     "name": "stdin",
     "output_type": "stream",
     "text": [
      "Enter your Customer Id:  585\n",
      "Enter your Customer Name: Yashaswini\n",
      "Enter the month :  march\n",
      "Enter units consumed:  20\n"
     ]
    },
    {
     "name": "stdout",
     "output_type": "stream",
     "text": [
      "Minimum bill should be 100\n",
      "\n",
      "\n"
     ]
    },
    {
     "name": "stdin",
     "output_type": "stream",
     "text": [
      "Enter your Customer Id:  454\n",
      "Enter your Customer Name: aditi\n",
      "Enter the month :  august \n",
      "Enter units consumed:  900\n"
     ]
    },
    {
     "name": "stdout",
     "output_type": "stream",
     "text": [
      "Bill for aditi with customer id 454 is 2070.0\n",
      "\n",
      "\n"
     ]
    },
    {
     "name": "stdin",
     "output_type": "stream",
     "text": [
      "Enter your Customer Id:  898\n",
      "Enter your Customer Name: Ritwik\n",
      "Enter the month :  feb\n",
      "Enter units consumed:  210\n"
     ]
    },
    {
     "name": "stdout",
     "output_type": "stream",
     "text": [
      "Bill for Ritwik with customer id 898 is 315.0\n",
      "\n",
      "\n"
     ]
    }
   ],
   "source": [
    "for i in range(0,5):\n",
    "    Cust_Id = input(\"Enter your Customer Id: \")\n",
    "    Cust_Name = input(\"Enter your Customer Name:\")\n",
    "    Month = input(\"Enter the month : \")\n",
    "    Units = int(input(\"Enter units consumed: \"))\n",
    "    if Units<84:\n",
    "        print(\"Minimum bill should be 100\\n\\n\")\n",
    "    elif Units>=84 and Units<200:\n",
    "        price = Units*1.20\n",
    "        print(\"Bill for {0} with customer id {1} is {2}\\n\\n\".format(Cust_Name, Cust_Id, price))\n",
    "    elif Units>=200 and Units<400:\n",
    "        price = Units*1.50\n",
    "        print(\"Bill for {0} with customer id {1} is {2}\\n\\n\".format(Cust_Name, Cust_Id, price))\n",
    "    elif Units>=400 and Units<600:\n",
    "        price = Units*1.80\n",
    "        price = price * 1.15\n",
    "        print(\"Bill for {0} with customer id {1} is {2}\\n\\n\".format(Cust_Name, Cust_Id, price))\n",
    "    elif Units>=600:\n",
    "        price = Units*2\n",
    "        price = price*1.15\n",
    "        print(\"Bill for {0} with customer id {1} is {2}\\n\\n\".format(Cust_Name, Cust_Id, price))\n",
    "        "
   ]
  },
  {
   "cell_type": "code",
   "execution_count": null,
   "metadata": {},
   "outputs": [],
   "source": []
  }
 ],
 "metadata": {
  "kernelspec": {
   "display_name": "Python 3",
   "language": "python",
   "name": "python3"
  },
  "language_info": {
   "codemirror_mode": {
    "name": "ipython",
    "version": 3
   },
   "file_extension": ".py",
   "mimetype": "text/x-python",
   "name": "python",
   "nbconvert_exporter": "python",
   "pygments_lexer": "ipython3",
   "version": "3.8.5"
  }
 },
 "nbformat": 4,
 "nbformat_minor": 4
}
