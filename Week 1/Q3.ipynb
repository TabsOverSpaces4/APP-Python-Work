{
 "cells": [
  {
   "cell_type": "code",
   "execution_count": null,
   "metadata": {},
   "outputs": [],
   "source": [
    "for i in range(0,5):\n",
    "    Cust_Id = input(\"Enter your Customer Id: \")\n",
    "    Cust_Name = input(\"Enter your Customer Name: \")\n",
    "    Units_1 = int(input(\"Enter units consumed in month 1: \"))\n",
    "    Units_2 = int(input(\"Enter units consumed in month 2: \"))\n",
    "    Units_3 = int(input(\"Enter units consumed in month 3: \"))\n",
    "    if ((Units_1+Units_2+Units_3)/3 <= Units_3):\n",
    "        predict=\"same\"\n",
    "    else:\n",
    "        predict=\"unpredict\"\n",
    "        print(\"Bill id : {0} \\nCustomer Id : {1} \\nCustomer Name : {2} \\n3 Months of Usage: {3}, {4}, {5} \\nNo. of units that will be consumed in the next month : {6}\\n\\n\".format(i+1, Cust_Id, Cust_Name, Units_1, Units_2, Units_3, predict))\n",
    "  "
   ]
  },
  {
   "cell_type": "code",
   "execution_count": null,
   "metadata": {},
   "outputs": [],
   "source": []
  },
  {
   "cell_type": "code",
   "execution_count": null,
   "metadata": {},
   "outputs": [],
   "source": []
  },
  {
   "cell_type": "code",
   "execution_count": null,
   "metadata": {},
   "outputs": [],
   "source": []
  }
 ],
 "metadata": {
  "kernelspec": {
   "display_name": "Python 3",
   "language": "python",
   "name": "python3"
  },
  "language_info": {
   "codemirror_mode": {
    "name": "ipython",
    "version": 3
   },
   "file_extension": ".py",
   "mimetype": "text/x-python",
   "name": "python",
   "nbconvert_exporter": "python",
   "pygments_lexer": "ipython3",
   "version": "3.8.5"
  }
 },
 "nbformat": 4,
 "nbformat_minor": 4
}
