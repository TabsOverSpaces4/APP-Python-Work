{
 "cells": [
  {
   "cell_type": "code",
   "execution_count": 1,
   "metadata": {},
   "outputs": [
    {
     "name": "stdin",
     "output_type": "stream",
     "text": [
      "Enter your Customer Id:  101\n",
      "Enter your Customer Name:  Harsh Gupta\n",
      "Enter units consumed :  90\n",
      "Enter if bill paid or not:  Yes\n",
      "Enter Date of Payment: 12/05/2020\n"
     ]
    },
    {
     "name": "stdout",
     "output_type": "stream",
     "text": [
      "Bill id : BCus_001 \n",
      "Customer Id : 101 \n",
      "Customer Name : Harsh Gupta \n",
      "Units consumed: 90\n",
      "Date Of Payment: 12/05/2020 \n",
      "Amount Paid: 108.0\n",
      "\n",
      "\n"
     ]
    },
    {
     "name": "stdin",
     "output_type": "stream",
     "text": [
      "Enter your Customer Id:  102\n",
      "Enter your Customer Name:  esha\n",
      "Enter units consumed :  120\n",
      "Enter if bill paid or not:  No\n",
      "Enter your Customer Id:  102\n",
      "Enter your Customer Name:  esha\n",
      "Enter units consumed :  120\n",
      "Enter if bill paid or not:  yes\n",
      "Enter Date of Payment: 15/08/2010\n"
     ]
    },
    {
     "name": "stdout",
     "output_type": "stream",
     "text": [
      "Bill id : BCus_002 \n",
      "Customer Id : 102 \n",
      "Customer Name : esha \n",
      "Units consumed: 120\n",
      "Date Of Payment: 15/08/2010 \n",
      "Amount Paid: 144.0\n",
      "\n",
      "\n"
     ]
    },
    {
     "name": "stdin",
     "output_type": "stream",
     "text": [
      "Enter your Customer Id:  103\n",
      "Enter your Customer Name:  Ritwik\n",
      "Enter units consumed :  420\n",
      "Enter if bill paid or not:  yes\n",
      "Enter Date of Payment: 6/09/42\n"
     ]
    },
    {
     "name": "stdout",
     "output_type": "stream",
     "text": [
      "Bill id : BCus_003 \n",
      "Customer Id : 103 \n",
      "Customer Name : Ritwik \n",
      "Units consumed: 420\n",
      "Date Of Payment: 6/09/42 \n",
      "Amount Paid: 869.4\n",
      "\n",
      "\n"
     ]
    },
    {
     "name": "stdin",
     "output_type": "stream",
     "text": [
      "Enter your Customer Id:  104\n",
      "Enter your Customer Name:  Ria\n",
      "Enter units consumed :  800\n",
      "Enter if bill paid or not:  yes\n",
      "Enter Date of Payment: 15/8/25\n"
     ]
    },
    {
     "name": "stdout",
     "output_type": "stream",
     "text": [
      "Bill id : BCus_004 \n",
      "Customer Id : 104 \n",
      "Customer Name : Ria \n",
      "Units consumed: 800\n",
      "Date Of Payment: 15/8/25 \n",
      "Amount Paid: 1839.9999999999998\n",
      "\n",
      "\n"
     ]
    }
   ],
   "source": [
    "B = 1\n",
    "for i in range(0,5):\n",
    "    Cust_Id = input(\"Enter your Customer Id: \")\n",
    "    Cust_Name = input(\"Enter your Customer Name: \")\n",
    "    Units = int(input(\"Enter units consumed : \"))\n",
    "    Status = input(\"Enter if bill paid or not: \")\n",
    "    if Status == 'Yes'or Status =='yes':\n",
    "        date = input(\"Enter Date of Payment:\")\n",
    "        if Units<200:\n",
    "            price = Units*1.20\n",
    "        if Units>=200 and Units<400:\n",
    "            price = Units*1.50\n",
    "        if Units>=400 and Units<600:\n",
    "            price = Units*1.80\n",
    "            price = price * 1.15\n",
    "        if Units>=600:\n",
    "            price = Units*2\n",
    "            price = price*1.15\n",
    "        print(\"Bill id : BCus_00{0} \\nCustomer Id : {1} \\nCustomer Name : {2} \\nUnits consumed: {3}\\nDate Of Payment: {4} \\nAmount Paid: {5}\\n\\n\".format(B, Cust_Id, Cust_Name, Units, date, price))\n",
    "        B=B+1"
   ]
  },
  {
   "cell_type": "code",
   "execution_count": null,
   "metadata": {},
   "outputs": [],
   "source": []
  }
 ],
 "metadata": {
  "kernelspec": {
   "display_name": "Python 3",
   "language": "python",
   "name": "python3"
  },
  "language_info": {
   "codemirror_mode": {
    "name": "ipython",
    "version": 3
   },
   "file_extension": ".py",
   "mimetype": "text/x-python",
   "name": "python",
   "nbconvert_exporter": "python",
   "pygments_lexer": "ipython3",
   "version": "3.8.5"
  }
 },
 "nbformat": 4,
 "nbformat_minor": 4
}
