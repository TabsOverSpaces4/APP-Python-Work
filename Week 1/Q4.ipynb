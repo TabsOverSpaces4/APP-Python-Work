{
 "cells": [
  {
   "cell_type": "code",
   "execution_count": 1,
   "metadata": {},
   "outputs": [
    {
     "name": "stdin",
     "output_type": "stream",
     "text": [
      "Enter String S1:  high\n",
      "Enter String S1:  gihh\n"
     ]
    },
    {
     "name": "stdout",
     "output_type": "stream",
     "text": [
      "These are anagrams.\n"
     ]
    }
   ],
   "source": [
    "s1 =input(\"Enter String S1: \")\n",
    "s2 =input(\"Enter String S1: \")\n",
    "if(sorted(s1)== sorted(s2)):\n",
    "    print(\"These are anagrams.\")\n",
    "else:\n",
    "    print(\"These are not anagrams.\")"
   ]
  },
  {
   "cell_type": "code",
   "execution_count": null,
   "metadata": {},
   "outputs": [],
   "source": []
  }
 ],
 "metadata": {
  "kernelspec": {
   "display_name": "Python 3",
   "language": "python",
   "name": "python3"
  },
  "language_info": {
   "codemirror_mode": {
    "name": "ipython",
    "version": 3
   },
   "file_extension": ".py",
   "mimetype": "text/x-python",
   "name": "python",
   "nbconvert_exporter": "python",
   "pygments_lexer": "ipython3",
   "version": "3.8.5"
  }
 },
 "nbformat": 4,
 "nbformat_minor": 4
}
