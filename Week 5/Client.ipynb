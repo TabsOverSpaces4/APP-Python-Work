{
 "cells": [
  {
   "cell_type": "code",
   "execution_count": null,
   "metadata": {},
   "outputs": [
    {
     "name": "stdout",
     "output_type": "stream",
     "text": [
      "Waiting for connection response\n"
     ]
    },
    {
     "name": "stdin",
     "output_type": "stream",
     "text": [
      "Hey there:  how are you\n"
     ]
    },
    {
     "name": "stdout",
     "output_type": "stream",
     "text": [
      "Server message: how are you\n"
     ]
    },
    {
     "name": "stdin",
     "output_type": "stream",
     "text": [
      "Hey there:  lol\n"
     ]
    },
    {
     "name": "stdout",
     "output_type": "stream",
     "text": [
      "Server message: lol\n"
     ]
    },
    {
     "name": "stdin",
     "output_type": "stream",
     "text": [
      "Hey there:  RA1911028010118\n"
     ]
    },
    {
     "name": "stdout",
     "output_type": "stream",
     "text": [
      "Server message: RA1911028010118\n"
     ]
    }
   ],
   "source": [
    "import socket\n",
    "\n",
    "ClientMultiSocket = socket.socket()\n",
    "host = '127.0.0.1'\n",
    "port = 2004\n",
    "\n",
    "print('Waiting for connection response')\n",
    "try:\n",
    "    ClientMultiSocket.connect((host, port))\n",
    "except socket.error as e:\n",
    "    print(str(e))\n",
    "\n",
    "res = ClientMultiSocket.recv(1024)\n",
    "while True:\n",
    "    Input = input('Hey there: ')\n",
    "    ClientMultiSocket.send(str.encode(Input))\n",
    "    res = ClientMultiSocket.recv(1024)\n",
    "    print(res.decode('utf-8'))\n",
    "\n",
    "ClientMultiSocket.close()"
   ]
  },
  {
   "cell_type": "code",
   "execution_count": null,
   "metadata": {},
   "outputs": [],
   "source": []
  }
 ],
 "metadata": {
  "kernelspec": {
   "display_name": "Python 3",
   "language": "python",
   "name": "python3"
  },
  "language_info": {
   "codemirror_mode": {
    "name": "ipython",
    "version": 3
   },
   "file_extension": ".py",
   "mimetype": "text/x-python",
   "name": "python",
   "nbconvert_exporter": "python",
   "pygments_lexer": "ipython3",
   "version": "3.8.5"
  }
 },
 "nbformat": 4,
 "nbformat_minor": 4
}
