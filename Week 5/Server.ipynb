{
 "cells": [
  {
   "cell_type": "code",
   "execution_count": null,
   "metadata": {},
   "outputs": [
    {
     "name": "stdout",
     "output_type": "stream",
     "text": [
      "Socket is listening..\n",
      "Connected to: 127.0.0.1:49138\n",
      "Thread Number: 1\n"
     ]
    }
   ],
   "source": [
    "import socket\n",
    "import os\n",
    "from _thread import *\n",
    "def multi_threaded_client(connection):\n",
    "    connection.send(str.encode('Server is working:'))\n",
    "    while True:\n",
    "        data = connection.recv(2048)\n",
    "        response = 'Server message: ' + data.decode('utf-8')\n",
    "        if not data:\n",
    "            break\n",
    "        connection.sendall(str.encode(response))\n",
    "    connection.close()\n",
    "\n",
    "ServerSideSocket = socket.socket()\n",
    "host = '127.0.0.1'\n",
    "port = 2004\n",
    "ThreadCount = 0\n",
    "try:\n",
    "    ServerSideSocket.bind((host, port))\n",
    "except socket.error as e:\n",
    "    print(str(e))\n",
    "\n",
    "print('Socket is listening..')\n",
    "ServerSideSocket.listen(5)\n",
    "\n",
    "while True:\n",
    "    Client, address = ServerSideSocket.accept()\n",
    "    print('Connected to: ' + address[0] + ':' + str(address[1]))\n",
    "    start_new_thread(multi_threaded_client, (Client, ))\n",
    "    ThreadCount += 1\n",
    "    print('Thread Number: ' + str(ThreadCount))\n",
    "ServerSideSocket.close()"
   ]
  },
  {
   "cell_type": "code",
   "execution_count": null,
   "metadata": {},
   "outputs": [],
   "source": []
  }
 ],
 "metadata": {
  "kernelspec": {
   "display_name": "Python 3",
   "language": "python",
   "name": "python3"
  },
  "language_info": {
   "codemirror_mode": {
    "name": "ipython",
    "version": 3
   },
   "file_extension": ".py",
   "mimetype": "text/x-python",
   "name": "python",
   "nbconvert_exporter": "python",
   "pygments_lexer": "ipython3",
   "version": "3.8.5"
  }
 },
 "nbformat": 4,
 "nbformat_minor": 4
}
