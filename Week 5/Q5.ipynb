{
 "cells": [
  {
   "cell_type": "code",
   "execution_count": 1,
   "metadata": {},
   "outputs": [
    {
     "name": "stdout",
     "output_type": "stream",
     "text": [
      "Hello from thread 50Hello from thread 49\n",
      "\n",
      "Hello from thread 48\n",
      "Hello from thread 47\n",
      "Hello from thread 46\n",
      "Hello from thread 45\n",
      "Hello from thread 44\n",
      "Hello from thread 43\n",
      "Hello from thread 42\n",
      "Hello from thread 41\n",
      "Hello from thread 40\n",
      "Hello from thread 39\n",
      "Hello from thread 38\n",
      "Hello from thread 37\n",
      "Hello from thread 36\n",
      "Hello from thread 35Hello from thread 34\n",
      "\n",
      "Hello from thread 33\n",
      "Hello from thread 32\n",
      "Hello from thread 31\n",
      "Hello from thread 30\n",
      "Hello from thread 29\n",
      "Hello from thread 28\n",
      "Hello from thread 27\n",
      "Hello from thread 26\n",
      "Hello from thread 25Hello from thread 24\n",
      "Hello from thread 23\n",
      "\n",
      "Hello from thread 22\n",
      "Hello from thread 21\n",
      "Hello from thread 20\n",
      "Hello from thread 19\n",
      "Hello from thread 18\n",
      "Hello from thread 17\n",
      "Hello from thread 16\n",
      "Hello from thread 15\n",
      "Hello from thread 14\n",
      "Hello from thread 13\n",
      "Hello from thread 12\n",
      "Hello from thread 11\n",
      "Hello from thread 10\n",
      "Hello from thread 9\n",
      "Hello from thread 8\n",
      "Hello from thread 7\n",
      "Hello from thread 6\n",
      "Hello from thread 5\n",
      "Hello from thread 4\n",
      "Hello from thread 3\n",
      "Hello from thread 2\n",
      "Hello from thread 1\n",
      "\n",
      "It took  0.02 second(s) to complete.\n"
     ]
    }
   ],
   "source": [
    "from time import sleep, perf_counter\n",
    "from threading import Thread\n",
    "\n",
    "//Code by Harsh Gupta\n",
    "\n",
    "def task(id):\n",
    "    print(f'Hello from thread {id}')\n",
    "    sleep(1)\n",
    "\n",
    "\n",
    "start_time = perf_counter()\n",
    "\n",
    "\n",
    "n=50\n",
    "for i in range(n,0,-1):\n",
    "    t = Thread(target=task, args=(i,))\n",
    "    t.start()\n",
    "    \n",
    "end_time = perf_counter()\n",
    "\n",
    "print()\n",
    "print(f'It took {end_time- start_time: 0.2f} second(s) to complete.')"
   ]
  },
  {
   "cell_type": "code",
   "execution_count": null,
   "metadata": {},
   "outputs": [],
   "source": []
  }
 ],
 "metadata": {
  "kernelspec": {
   "display_name": "Python 3",
   "language": "python",
   "name": "python3"
  },
  "language_info": {
   "codemirror_mode": {
    "name": "ipython",
    "version": 3
   },
   "file_extension": ".py",
   "mimetype": "text/x-python",
   "name": "python",
   "nbconvert_exporter": "python",
   "pygments_lexer": "ipython3",
   "version": "3.8.5"
  }
 },
 "nbformat": 4,
 "nbformat_minor": 4
}
