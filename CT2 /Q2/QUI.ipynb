{
 "cells": [
  {
   "cell_type": "code",
   "execution_count": null,
   "metadata": {},
   "outputs": [],
   "source": [
    "import tkinter as tk\n",
    "window = tk.Tk()\n",
    "window.title(\"Welcome to TutorialsPoint\")\n",
    "window.geometry('400x400')\n",
    "a = tk.Label(window ,text = \"First Name\").grid(row = 0,column = 0)\n",
    "b = tk.Label(window ,text = \"Last Name\").grid(row = 1,column = 0)\n",
    "c = tk.Label(window ,text = \"Email Id\").grid(row = 2,column = 0)\n",
    "d = tk.Label(window ,text = \"Contact Number\").grid(row = 3,column = 0)\n",
    "a1 = tk.Entry(window).grid(row = 0,column = 1)\n",
    "b1 = tk.Entry(window).grid(row = 1,column = 1)\n",
    "c1 = tk.Entry(window).grid(row = 2,column = 1)\n",
    "d1 = tk.Entry(window).grid(row = 3,column = 1)\n",
    "btn = tk.Button(window ,text=\"Submit\").grid(row=4,column=0)\n",
    "window.mainloop()"
   ]
  },
  {
   "cell_type": "code",
   "execution_count": null,
   "metadata": {},
   "outputs": [],
   "source": []
  },
  {
   "cell_type": "code",
   "execution_count": null,
   "metadata": {},
   "outputs": [],
   "source": []
  }
 ],
 "metadata": {
  "kernelspec": {
   "display_name": "Python 3",
   "language": "python",
   "name": "python3"
  },
  "language_info": {
   "codemirror_mode": {
    "name": "ipython",
    "version": 3
   },
   "file_extension": ".py",
   "mimetype": "text/x-python",
   "name": "python",
   "nbconvert_exporter": "python",
   "pygments_lexer": "ipython3",
   "version": "3.8.5"
  }
 },
 "nbformat": 4,
 "nbformat_minor": 4
}
