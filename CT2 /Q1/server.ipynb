{
 "cells": [
  {
   "cell_type": "code",
   "execution_count": null,
   "metadata": {},
   "outputs": [
    {
     "name": "stdout",
     "output_type": "stream",
     "text": [
      "TCP Server - Ready\n",
      "Connected with ('127.0.0.1', 60078)\n"
     ]
    }
   ],
   "source": [
    "import socket\n",
    "import sys\n",
    "\n",
    "host = '127.0.0.1'\n",
    "port = 1182\n",
    "MAX_BYTES = 1024\n",
    "\n",
    "\n",
    "with socket.socket(socket.AF_INET, socket.SOCK_STREAM) as server:\n",
    "    server.bind((host, port))\n",
    "    server.listen()\n",
    "    print('TCP Server - Ready')\n",
    "    while True:\n",
    "        conn, addr = server.accept()\n",
    "        with conn:\n",
    "            print('Connected with', addr)\n",
    "            data = ''\n",
    "            while data != '\\end':\n",
    "                # print(data)\n",
    "                data = conn.recv(MAX_BYTES)\n",
    "                if not data:\n",
    "                    break\n",
    "                reply = data\n",
    "                data.decode()\n",
    "                # print(reply)\n",
    "                if data == '\\end':\n",
    "                    conn.sendall(\"Bye!\")\n",
    "                    sys.exit()\n",
    "                conn.sendall(reply)                "
   ]
  },
  {
   "cell_type": "code",
   "execution_count": null,
   "metadata": {},
   "outputs": [],
   "source": []
  },
  {
   "cell_type": "code",
   "execution_count": null,
   "metadata": {},
   "outputs": [],
   "source": []
  },
  {
   "cell_type": "code",
   "execution_count": null,
   "metadata": {},
   "outputs": [],
   "source": []
  },
  {
   "cell_type": "code",
   "execution_count": null,
   "metadata": {},
   "outputs": [],
   "source": []
  },
  {
   "cell_type": "code",
   "execution_count": null,
   "metadata": {},
   "outputs": [],
   "source": []
  }
 ],
 "metadata": {
  "kernelspec": {
   "display_name": "Python 3",
   "language": "python",
   "name": "python3"
  },
  "language_info": {
   "codemirror_mode": {
    "name": "ipython",
    "version": 3
   },
   "file_extension": ".py",
   "mimetype": "text/x-python",
   "name": "python",
   "nbconvert_exporter": "python",
   "pygments_lexer": "ipython3",
   "version": "3.8.5"
  }
 },
 "nbformat": 4,
 "nbformat_minor": 4
}
