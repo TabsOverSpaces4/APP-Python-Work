{
 "cells": [
  {
   "cell_type": "code",
   "execution_count": 4,
   "metadata": {},
   "outputs": [
    {
     "ename": "ModuleNotFoundError",
     "evalue": "No module named 'pyDatalog'",
     "output_type": "error",
     "traceback": [
      "\u001b[0;31m---------------------------------------------------------------------------\u001b[0m",
      "\u001b[0;31mModuleNotFoundError\u001b[0m                       Traceback (most recent call last)",
      "\u001b[0;32m<ipython-input-4-567c86d6aeb6>\u001b[0m in \u001b[0;36m<module>\u001b[0;34m\u001b[0m\n\u001b[0;32m----> 1\u001b[0;31m \u001b[0;32mfrom\u001b[0m \u001b[0mpyDatalog\u001b[0m \u001b[0;32mimport\u001b[0m \u001b[0mpyDatalog\u001b[0m\u001b[0;34m\u001b[0m\u001b[0;34m\u001b[0m\u001b[0m\n\u001b[0m\u001b[1;32m      2\u001b[0m \u001b[0mpyDatalog\u001b[0m\u001b[0;34m.\u001b[0m\u001b[0mcreate_terms\u001b[0m\u001b[0;34m(\u001b[0m\u001b[0;34m\"Ram,Raju,Priya,Carol,Shayam,name,Names,Marks,passm,grade,X,Y,gradeO,gradeA,gradeB,gradeC,gradeD,gradeF\"\u001b[0m\u001b[0;34m)\u001b[0m\u001b[0;34m\u001b[0m\u001b[0;34m\u001b[0m\u001b[0m\n\u001b[1;32m      3\u001b[0m \u001b[0;34m\u001b[0m\u001b[0m\n\u001b[1;32m      4\u001b[0m \u001b[0;34m+\u001b[0m\u001b[0mname\u001b[0m\u001b[0;34m(\u001b[0m\u001b[0;34m\"Ram\"\u001b[0m\u001b[0;34m,\u001b[0m\u001b[0;36m90\u001b[0m\u001b[0;34m)\u001b[0m\u001b[0;34m\u001b[0m\u001b[0;34m\u001b[0m\u001b[0m\n\u001b[1;32m      5\u001b[0m \u001b[0;34m+\u001b[0m\u001b[0mname\u001b[0m\u001b[0;34m(\u001b[0m\u001b[0;34m\"Raju\"\u001b[0m\u001b[0;34m,\u001b[0m\u001b[0;36m45\u001b[0m\u001b[0;34m)\u001b[0m\u001b[0;34m\u001b[0m\u001b[0;34m\u001b[0m\u001b[0m\n",
      "\u001b[0;31mModuleNotFoundError\u001b[0m: No module named 'pyDatalog'"
     ]
    }
   ],
   "source": [
    "from pyDatalog import pyDatalog\n",
    "pyDatalog.create_terms(\"Ram,Raju,Priya,Carol,Shayam,name,Names,Marks,passm,grade,X,Y,gradeO,gradeA,gradeB,gradeC,gradeD,gradeF\")\n",
    "\n",
    "+name(\"Ram\",90)\n",
    "+name(\"Raju\",45)\n",
    "+name(\"Priya\",85)\n",
    "+name(\"Carol\",70)\n",
    "+name(\"Shayam\",80)\n",
    "print(\"\\na)\\n\")\n",
    "print(name(Names,Marks))\n",
    "print()\n",
    "print(\"\\nb)\\n\")\n",
    "print(name(Names,80))\n",
    "print()\n",
    "print(\"\\nc)\\n\")\n",
    "print(name(\"Priya\",Marks))\n",
    "print(\"\\nd)\\n\")\n",
    "\n",
    "passm(Names,Marks)<= (name(Names,Marks) & (Marks<=50))\n",
    "\n",
    "print(passm(Names,Marks))\n",
    "print()\n",
    "print(\"\\ne)\\n\")\n",
    "print(\"Grades:\\n\")\n",
    "gradeO(Names,Marks)<=(name(Names,Marks) & (Marks >= 90))\n",
    "print(\"\\nGrade O\\n\")    \n",
    "print(gradeO(Names,Marks) & name(Names,Marks))\n",
    "print()\n",
    "gradeA(Names,Marks)<=(name(Names,Marks) & (Marks >= 80) & (Marks < 90))\n",
    "print(\"\\nGrade A\\n\")    \n",
    "print(gradeA(Names,Marks) & name(Names,Marks))\n",
    "print()\n",
    "gradeB(Names,Marks)<=(name(Names,Marks) & (Marks >= 70) & (Marks < 80))\n",
    "print(\"\\nGrade B\\n\")    \n",
    "print(gradeB(Names,Marks) & name(Names,Marks))\n",
    "print()\n",
    "gradeC(Names,Marks)<=(name(Names,Marks) & (Marks >= 60) & (Marks < 70))\n",
    "print(\"\\nGrade C\\n\")    \n",
    "print(gradeC(Names,Marks) & name(Names,Marks))\n",
    "print()\n",
    "gradeD(Names,Marks)<=(name(Names,Marks) & (Marks >= 50) & (Marks < 60))\n",
    "print(\"\\nGrade D\\n\")    \n",
    "print(gradeD(Names,Marks) & name(Names,Marks))\n",
    "print()\n",
    "gradeF(Names,Marks)<=(name(Names,Marks) & (Marks < 50) )\n",
    "print(\"\\nGrade F\\n\")    \n",
    "print(gradeF(Names,Marks) & name(Names,Marks))"
   ]
  },
  {
   "cell_type": "code",
   "execution_count": null,
   "metadata": {},
   "outputs": [],
   "source": []
  }
 ],
 "metadata": {
  "kernelspec": {
   "display_name": "Python 3",
   "language": "python",
   "name": "python3"
  },
  "language_info": {
   "codemirror_mode": {
    "name": "ipython",
    "version": 3
   },
   "file_extension": ".py",
   "mimetype": "text/x-python",
   "name": "python",
   "nbconvert_exporter": "python",
   "pygments_lexer": "ipython3",
   "version": "3.8.5"
  }
 },
 "nbformat": 4,
 "nbformat_minor": 4
}
