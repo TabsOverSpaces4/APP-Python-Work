{
 "cells": [
  {
   "cell_type": "code",
   "execution_count": null,
   "metadata": {},
   "outputs": [
    {
     "name": "stdout",
     "output_type": "stream",
     "text": [
      "Socket Created\n",
      "Waiting for the connection\n",
      "connected with  ('127.0.0.1', 59248) BYE\n"
     ]
    }
   ],
   "source": [
    "import socket\n",
    "s=socket.socket()\n",
    "print(\"Socket Created\")\n",
    "host=socket.gethostname()\n",
    "port=9998\n",
    "s.bind((host,port))\n",
    "s.listen(5)\n",
    "print(\"Waiting for the connection\")\n",
    "while True:\n",
    "    c,addr=s.accept()\n",
    "    query=c.recv(1024).decode()\n",
    "    print(\"connected with \",addr,query)\n",
    "    c.send(bytes(query,'utf-8'))\n",
    "    c.close()"
   ]
  },
  {
   "cell_type": "code",
   "execution_count": null,
   "metadata": {},
   "outputs": [],
   "source": []
  }
 ],
 "metadata": {
  "kernelspec": {
   "display_name": "Python 3",
   "language": "python",
   "name": "python3"
  },
  "language_info": {
   "codemirror_mode": {
    "name": "ipython",
    "version": 3
   },
   "file_extension": ".py",
   "mimetype": "text/x-python",
   "name": "python",
   "nbconvert_exporter": "python",
   "pygments_lexer": "ipython3",
   "version": "3.8.5"
  }
 },
 "nbformat": 4,
 "nbformat_minor": 4
}
