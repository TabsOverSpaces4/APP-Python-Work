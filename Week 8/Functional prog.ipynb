{
 "cells": [
  {
   "cell_type": "code",
   "execution_count": 1,
   "metadata": {},
   "outputs": [
    {
     "name": "stdout",
     "output_type": "stream",
     "text": [
      "0.0017857142857142857\n"
     ]
    }
   ],
   "source": [
    "time = lambda f: 1/f\n",
    "freq = 560 \n",
    "print(time(freq))"
   ]
  },
  {
   "cell_type": "code",
   "execution_count": 2,
   "metadata": {},
   "outputs": [
    {
     "name": "stdout",
     "output_type": "stream",
     "text": [
      "12\n"
     ]
    }
   ],
   "source": [
    "calc = lambda a,b:a*b\n",
    "print(calc(3,4))"
   ]
  },
  {
   "cell_type": "code",
   "execution_count": 3,
   "metadata": {},
   "outputs": [
    {
     "name": "stdin",
     "output_type": "stream",
     "text": [
      "Enter the number of meters to be converted:  20\n"
     ]
    },
    {
     "name": "stdout",
     "output_type": "stream",
     "text": [
      "65.62 feet\n"
     ]
    }
   ],
   "source": [
    "#Lambda functions\n",
    "feet = lambda m: m*(3.281)\n",
    "meters = int(input(\"Enter the number of meters to be converted: \"))\n",
    "print(\"{:0.2f} feet\".format(feet(meters)))"
   ]
  },
  {
   "cell_type": "code",
   "execution_count": 4,
   "metadata": {},
   "outputs": [
    {
     "name": "stdin",
     "output_type": "stream",
     "text": [
      "Enter value for a:  10\n",
      "Enter value for b:  20\n"
     ]
    },
    {
     "name": "stdout",
     "output_type": "stream",
     "text": [
      "120\n"
     ]
    }
   ],
   "source": [
    "# Write a lambda function in Python to implement the following lambda expression:\n",
    "square = lambda x: x**2\n",
    "total = lambda f, b: lambda a: f(a)+b\n",
    "a = int(input(\"Enter value for a: \"))\n",
    "b = int(input(\"Enter value for b: \"))\n",
    "print(total(square, b)(a))"
   ]
  },
  {
   "cell_type": "code",
   "execution_count": 5,
   "metadata": {},
   "outputs": [
    {
     "name": "stdin",
     "output_type": "stream",
     "text": [
      "Enter a number:  12\n"
     ]
    },
    {
     "name": "stdout",
     "output_type": "stream",
     "text": [
      "20736\n"
     ]
    }
   ],
   "source": [
    "#Passing and returning a function as an argument\n",
    "def square(n):\n",
    " n = n**2\n",
    " return n\n",
    "def twice(f):\n",
    "    return square(f)\n",
    "n = int(input(\"Enter a number: \"))\n",
    "quad = twice(square(n))\n",
    "print(quad)"
   ]
  },
  {
   "cell_type": "code",
   "execution_count": 6,
   "metadata": {},
   "outputs": [
    {
     "name": "stdout",
     "output_type": "stream",
     "text": [
      "45\n"
     ]
    }
   ],
   "source": [
    "# Study the following program by executing it:\n",
    "def multiplier_of(n): \n",
    "    def multiplier(number): \n",
    "        return number*n \n",
    "    return multiplier \n",
    "multiplywith5 = multiplier_of(5) \n",
    "print(multiplywith5(9))"
   ]
  },
  {
   "cell_type": "code",
   "execution_count": 7,
   "metadata": {},
   "outputs": [
    {
     "name": "stdin",
     "output_type": "stream",
     "text": [
      "Enter a random number:  16\n"
     ]
    },
    {
     "name": "stdout",
     "output_type": "stream",
     "text": [
      "Random number generated is: 2\n"
     ]
    }
   ],
   "source": [
    "# Lottery system\n",
    "import random\n",
    "def outer(n):\n",
    "    lst = random.sample(range(0,n+1), n)\n",
    "    def inner():\n",
    "        ind = random.randrange(0, n)\n",
    "        return lst[ind]\n",
    "    return inner\n",
    "n = int(input(\"Enter a random number: \"))\n",
    "pick_number = outer(n)\n",
    "print(\"Random number generated is: {}\".format(pick_number()))"
   ]
  },
  {
   "cell_type": "code",
   "execution_count": 8,
   "metadata": {},
   "outputs": [
    {
     "name": "stdin",
     "output_type": "stream",
     "text": [
      "Enter the word:  pron\n",
      "Enter the shift:  3\n"
     ]
    },
    {
     "name": "stdout",
     "output_type": "stream",
     "text": [
      "Encrypted text: surq"
     ]
    }
   ],
   "source": [
    "#map\n",
    "def encrypt(letter, s):\n",
    "    if (letter.isupper()):\n",
    "        return chr((ord(letter) + s - 65) % 26 + 65)\n",
    "    elif (letter.islower()):\n",
    "        return chr((ord(letter) + s - 97) % 26 + 97)\n",
    "    else:\n",
    "        return letter\n",
    "text = input(\"Enter the word: \")\n",
    "s = int(input(\"Enter the shift: \"))\n",
    "shift = [s] * len(text)\n",
    "result = list(map(encrypt, text, shift))\n",
    "print(\"Encrypted text: \", end=\"\")\n",
    "for i in result:\n",
    "    print(i, end=\"\")"
   ]
  },
  {
   "cell_type": "code",
   "execution_count": 9,
   "metadata": {},
   "outputs": [
    {
     "name": "stdout",
     "output_type": "stream",
     "text": [
      "Player 2 is more consistent.\n"
     ]
    }
   ],
   "source": [
    "#Reduce\n",
    "import functools\n",
    "import operator\n",
    "player1 = [100, 20, 50, 66, 72, 32]\n",
    "player2 = [56, 65, 78, 45, 33, 69]\n",
    "mean1 = (functools.reduce(operator.add, player1)) / len(player1)\n",
    "mean2 = (functools.reduce(operator.add, player2)) / len(player2)\n",
    "m1 = [mean1] * len(player1)\n",
    "m2 = [mean2] * len(player2)\n",
    "def variance(p, m):\n",
    "    var = p - m\n",
    "    return var**2\n",
    " \n",
    "sqvar1 = list(map(variance, player1, m1))\n",
    "sqvar2 = list(map(variance, player2, m2))\n",
    "var1 = (functools.reduce(operator.add, sqvar1)) / len(sqvar1)\n",
    "var2 = (functools.reduce(operator.add, sqvar2)) / len(sqvar2)\n",
    "sd1 = var1**0.5\n",
    "sd2 = var2**0.5\n",
    "if sd1 == sd2:\n",
    "    print(\"Both players are consistent.\")\n",
    "elif sd1 > sd2:\n",
    "    print(\"Player 2 is more consistent.\")\n",
    "else:\n",
    "    print(\"Player 1 is more consistent.\")"
   ]
  },
  {
   "cell_type": "code",
   "execution_count": 10,
   "metadata": {},
   "outputs": [
    {
     "name": "stdout",
     "output_type": "stream",
     "text": [
      "Student #2 failed in at least one subject.\n",
      "Student #3 failed in at least one subject.\n"
     ]
    }
   ],
   "source": [
    "#Filter\n",
    "marks = [[88, 77, 66, 77, 99],[56, 78, 31, 35, 54],[53, 71, 64, 56, 14]]\n",
    "def fail(marks):\n",
    "    for i in marks:\n",
    "        if i < 40:\n",
    "            return True\n",
    "result = filter(fail, marks)\n",
    "res = list(result)\n",
    "for i in range(0, len(marks)):\n",
    "    if marks[i] in res:\n",
    "        print(\"Student #{} failed in at least one subject.\".format(i+1))\n"
   ]
  },
  {
   "cell_type": "code",
   "execution_count": 11,
   "metadata": {},
   "outputs": [
    {
     "name": "stdout",
     "output_type": "stream",
     "text": [
      "IPL tweets: 4\n",
      "COVID19 tweets: 4\n"
     ]
    }
   ],
   "source": [
    "#Map+reduce+filter\n",
    "import operator\n",
    "tweets = [\"First ever player to score 6000 runs in #IPL - Just another day at the ‘office’ for #ViratKohli!\",\n",
    " \"My @rajasthanroyals outfit has arrived! Now to be well enough to wear it....Thanks @IamSanjuSamson & the RR management! All the best for the rest of the #IPL!\",\n",
    " \"How amazing that both the centuries in this year’s #IPL have been scored by Malayalis, when Kerala has so long been regarded as a cricketing backwater!\",\n",
    " \"Most 10-wicket wins in IPL: 4 - RCB, 2 - MI, 2 - SRH, 2 - CSK #RCBvsRR #RCB #RR #IPL #IPL2021 #CricTracker\",\n",
    " \"India would have never eliminated polio, if people had to BUY polio vaccines. Same logic applies for #COVID19\",\n",
    " \"The Ontario Science Table @COVIDSciOntario has recommended that 50% of all available vaccines go to hotspot neighbourhoods with the highest rates of #COVID19. RT if you agree the Ontario government should immediately do this to save lives.\",\n",
    " \"UPA home minister resigned after terror attack on Mumbai. Why doesn’t NDA health minister resign for this #COVID19 mess? I would prefer Modi to resign as buck stops at him.But being thick skinned, he won’t!\",\n",
    " \"Khalsa Aid India arranges Oxygen concentrators for COVID-19 patients, will deliver them in Delhi. #COVID19\"]\n",
    "ipl = [\"#ipl\"] * len(tweets)\n",
    "covid = [\"#covid19\"] * len(tweets)\n",
    "def segregate_tweets(lst, topic):\n",
    "    if topic in lst.lower(): \n",
    "        return lst\n",
    "resultipl = list(map(segregate_tweets, tweets, ipl))\n",
    "resultcovid = list(map(segregate_tweets, tweets, covid))\n",
    "def filter_list(lst):\n",
    "    if lst != \"\":\n",
    "        return lst\n",
    "result_ipl = list(filter(filter_list, resultipl))\n",
    "result_covid = list(filter(filter_list, resultcovid))\n",
    "print(\"IPL tweets: {}\".format(len(result_ipl)))\n",
    "print(\"COVID19 tweets: {}\".format(len(result_covid)))"
   ]
  },
  {
   "cell_type": "code",
   "execution_count": null,
   "metadata": {},
   "outputs": [],
   "source": []
  }
 ],
 "metadata": {
  "kernelspec": {
   "display_name": "Python 3",
   "language": "python",
   "name": "python3"
  },
  "language_info": {
   "codemirror_mode": {
    "name": "ipython",
    "version": 3
   },
   "file_extension": ".py",
   "mimetype": "text/x-python",
   "name": "python",
   "nbconvert_exporter": "python",
   "pygments_lexer": "ipython3",
   "version": "3.8.5"
  }
 },
 "nbformat": 4,
 "nbformat_minor": 4
}
